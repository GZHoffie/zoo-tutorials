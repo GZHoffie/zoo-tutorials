{
 "cells": [
  {
   "cell_type": "code",
   "execution_count": 1,
   "id": "false-interface",
   "metadata": {},
   "outputs": [
    {
     "data": {
      "text/plain": [
       "'2.4.0'"
      ]
     },
     "execution_count": 1,
     "metadata": {},
     "output_type": "execute_result"
    }
   ],
   "source": [
    "from tensorflow import keras\n",
    "keras.__version__"
   ]
  },
  {
   "cell_type": "markdown",
   "id": "personal-album",
   "metadata": {},
   "source": [
    "To start using `zoo.orca`, we need to first initialize orca context. Here we specify local or distributed mode. In this example, we choose the local mode."
   ]
  },
  {
   "cell_type": "code",
   "execution_count": null,
   "id": "systematic-pepper",
   "metadata": {},
   "outputs": [],
   "source": [
    "from zoo.orca import init_orca_context, stop_orca_context\n",
    "from zoo.orca import OrcaContext\n",
    "\n",
    "OrcaContext.log_output = True # recommended to set it to True when running Analytics Zoo in Jupyter notebook (this will display terminal's  stdout and stderr in the Jupyter notebook).\n",
    "\n",
    "cluster_mode = \"local\"\n",
    "\n",
    "if cluster_mode == \"local\":  \n",
    "    init_orca_context(cluster_mode=\"local\", cores=4) # run in local mode\n",
    "elif cluster_mode == \"k8s\":  \n",
    "    init_orca_context(cluster_mode=\"k8s\", num_nodes=2, cores=2) # run on K8s cluster\n",
    "elif cluster_mode == \"yarn\":  \n",
    "    init_orca_context(cluster_mode=\"yarn-client\", num_nodes=2, cores=2) # run on Hadoop YARN cluster"
   ]
  },
  {
   "cell_type": "markdown",
   "id": "elementary-security",
   "metadata": {},
   "source": [
    "# Predicting house prices: a regression example\n",
    "This notebook contains the code samples found in Chapter 3, Section 6 of [Deep Learning with Python](https://www.manning.com/books/deep-learning-with-python?a_aid=keras&a_bid=76564dff). Note that the original text features far more content, in particular further explanations and figures: in this notebook, you will only find source code and related comments.\n",
    "\n",
    "------------------\n",
    "\n",
    "In our two previous examples, we were considering classification problems, where the goal was to predict a single discrete label of an input data point. Another common type of machine learning problem is \"regression\", which consists of predicting a continuous value instead of a discrete label. For instance, predicting the temperature tomorrow, given meteorological data, or predicting the time that a software project will take to complete, given its specifications.\n",
    "\n",
    "Do not mix up \"regression\" with the algorithm \"logistic regression\": confusingly, \"logistic regression\" is not a regression algorithm, it is a classification algorithm.\n",
    "\n",
    "## The Boston Housing Price dataset\n",
    "\n",
    "We will be attempting to predict the median price of homes in a given Boston suburb in the mid-1970s, given a few data points about the suburb at the time, such as the crime rate, the local property tax rate, etc.\n",
    "\n",
    "The dataset we will be using has another interesting difference from our two previous examples: it has very few data points, only 506 in total, split between 404 training samples and 102 test samples, and each \"feature\" in the input data (e.g. the crime rate is a feature) has a different scale. For instance some values are proportions, which take a values between 0 and 1, others take values between 1 and 12, others between 0 and 100...\n",
    "\n",
    "Let's take a look at the data:"
   ]
  },
  {
   "cell_type": "code",
   "execution_count": 3,
   "id": "japanese-portal",
   "metadata": {},
   "outputs": [
    {
     "name": "stderr",
     "output_type": "stream",
     "text": [
      "Using TensorFlow backend.\n"
     ]
    },
    {
     "data": {
      "text/plain": [
       "(404, 13)"
      ]
     },
     "execution_count": 3,
     "metadata": {},
     "output_type": "execute_result"
    }
   ],
   "source": [
    "from keras.datasets import boston_housing\n",
    "\n",
    "(train_data, train_targets), (test_data, test_targets) =  boston_housing.load_data()\n",
    "train_data.shape"
   ]
  },
  {
   "cell_type": "code",
   "execution_count": 4,
   "id": "stopped-train",
   "metadata": {},
   "outputs": [
    {
     "data": {
      "text/plain": [
       "(102, 13)"
      ]
     },
     "execution_count": 4,
     "metadata": {},
     "output_type": "execute_result"
    }
   ],
   "source": [
    "test_data.shape"
   ]
  },
  {
   "cell_type": "markdown",
   "id": "gorgeous-slave",
   "metadata": {},
   "source": [
    "We can also extract the information of our dataset using `numpy`."
   ]
  },
  {
   "cell_type": "code",
   "execution_count": 5,
   "id": "protecting-sleeping",
   "metadata": {},
   "outputs": [],
   "source": [
    "mean = train_data.mean(axis=0)\n",
    "std = train_data.std(axis=0)"
   ]
  },
  {
   "cell_type": "markdown",
   "id": "romance-cleveland",
   "metadata": {},
   "source": [
    "\n",
    "As you can see, we have 404 training samples and 102 test samples. The data comprises 13 features. The 13 features in the input data are as follow:\n",
    "\n",
    "1. Per capita crime rate.\n",
    "1. Proportion of residential land zoned for lots over 25,000 square feet.\n",
    "1. Proportion of non-retail business acres per town.\n",
    "1. Charles River dummy variable (= 1 if tract bounds river; 0 otherwise).\n",
    "1. Nitric oxides concentration (parts per 10 million).\n",
    "1. Average number of rooms per dwelling.\n",
    "1. Proportion of owner-occupied units built prior to 1940.\n",
    "1. Weighted distances to five Boston employment centres.\n",
    "1. Index of accessibility to radial highways.\n",
    "1. Full-value property-tax rate per $10,000.\n",
    "1. Pupil-teacher ratio by town.\n",
    "1. 1000 * (Bk - 0.63) ** 2 where Bk is the proportion of Black people by town.\n",
    "1. % lower status of the population.\n",
    "\n",
    "The targets are the median values of owner-occupied homes, in thousands of dollars:"
   ]
  },
  {
   "cell_type": "code",
   "execution_count": 6,
   "id": "confused-hydrogen",
   "metadata": {},
   "outputs": [
    {
     "data": {
      "text/plain": [
       "array([15.2, 42.3, 50. , 21.1, 17.7, 18.5, 11.3, 15.6, 15.6, 14.4, 12.1,\n",
       "       17.9, 23.1, 19.9, 15.7,  8.8, 50. , 22.5, 24.1, 27.5, 10.9, 30.8,\n",
       "       32.9, 24. , 18.5, 13.3, 22.9, 34.7, 16.6, 17.5, 22.3, 16.1, 14.9,\n",
       "       23.1, 34.9, 25. , 13.9, 13.1, 20.4, 20. , 15.2, 24.7, 22.2, 16.7,\n",
       "       12.7, 15.6, 18.4, 21. , 30.1, 15.1, 18.7,  9.6, 31.5, 24.8, 19.1,\n",
       "       22. , 14.5, 11. , 32. , 29.4, 20.3, 24.4, 14.6, 19.5, 14.1, 14.3,\n",
       "       15.6, 10.5,  6.3, 19.3, 19.3, 13.4, 36.4, 17.8, 13.5, 16.5,  8.3,\n",
       "       14.3, 16. , 13.4, 28.6, 43.5, 20.2, 22. , 23. , 20.7, 12.5, 48.5,\n",
       "       14.6, 13.4, 23.7, 50. , 21.7, 39.8, 38.7, 22.2, 34.9, 22.5, 31.1,\n",
       "       28.7, 46. , 41.7, 21. , 26.6, 15. , 24.4, 13.3, 21.2, 11.7, 21.7,\n",
       "       19.4, 50. , 22.8, 19.7, 24.7, 36.2, 14.2, 18.9, 18.3, 20.6, 24.6,\n",
       "       18.2,  8.7, 44. , 10.4, 13.2, 21.2, 37. , 30.7, 22.9, 20. , 19.3,\n",
       "       31.7, 32. , 23.1, 18.8, 10.9, 50. , 19.6,  5. , 14.4, 19.8, 13.8,\n",
       "       19.6, 23.9, 24.5, 25. , 19.9, 17.2, 24.6, 13.5, 26.6, 21.4, 11.9,\n",
       "       22.6, 19.6,  8.5, 23.7, 23.1, 22.4, 20.5, 23.6, 18.4, 35.2, 23.1,\n",
       "       27.9, 20.6, 23.7, 28. , 13.6, 27.1, 23.6, 20.6, 18.2, 21.7, 17.1,\n",
       "        8.4, 25.3, 13.8, 22.2, 18.4, 20.7, 31.6, 30.5, 20.3,  8.8, 19.2,\n",
       "       19.4, 23.1, 23. , 14.8, 48.8, 22.6, 33.4, 21.1, 13.6, 32.2, 13.1,\n",
       "       23.4, 18.9, 23.9, 11.8, 23.3, 22.8, 19.6, 16.7, 13.4, 22.2, 20.4,\n",
       "       21.8, 26.4, 14.9, 24.1, 23.8, 12.3, 29.1, 21. , 19.5, 23.3, 23.8,\n",
       "       17.8, 11.5, 21.7, 19.9, 25. , 33.4, 28.5, 21.4, 24.3, 27.5, 33.1,\n",
       "       16.2, 23.3, 48.3, 22.9, 22.8, 13.1, 12.7, 22.6, 15. , 15.3, 10.5,\n",
       "       24. , 18.5, 21.7, 19.5, 33.2, 23.2,  5. , 19.1, 12.7, 22.3, 10.2,\n",
       "       13.9, 16.3, 17. , 20.1, 29.9, 17.2, 37.3, 45.4, 17.8, 23.2, 29. ,\n",
       "       22. , 18. , 17.4, 34.6, 20.1, 25. , 15.6, 24.8, 28.2, 21.2, 21.4,\n",
       "       23.8, 31. , 26.2, 17.4, 37.9, 17.5, 20. ,  8.3, 23.9,  8.4, 13.8,\n",
       "        7.2, 11.7, 17.1, 21.6, 50. , 16.1, 20.4, 20.6, 21.4, 20.6, 36.5,\n",
       "        8.5, 24.8, 10.8, 21.9, 17.3, 18.9, 36.2, 14.9, 18.2, 33.3, 21.8,\n",
       "       19.7, 31.6, 24.8, 19.4, 22.8,  7.5, 44.8, 16.8, 18.7, 50. , 50. ,\n",
       "       19.5, 20.1, 50. , 17.2, 20.8, 19.3, 41.3, 20.4, 20.5, 13.8, 16.5,\n",
       "       23.9, 20.6, 31.5, 23.3, 16.8, 14. , 33.8, 36.1, 12.8, 18.3, 18.7,\n",
       "       19.1, 29. , 30.1, 50. , 50. , 22. , 11.9, 37.6, 50. , 22.7, 20.8,\n",
       "       23.5, 27.9, 50. , 19.3, 23.9, 22.6, 15.2, 21.7, 19.2, 43.8, 20.3,\n",
       "       33.2, 19.9, 22.5, 32.7, 22. , 17.1, 19. , 15. , 16.1, 25.1, 23.7,\n",
       "       28.7, 37.2, 22.6, 16.4, 25. , 29.8, 22.1, 17.4, 18.1, 30.3, 17.5,\n",
       "       24.7, 12.6, 26.5, 28.7, 13.3, 10.4, 24.4, 23. , 20. , 17.8,  7. ,\n",
       "       11.8, 24.4, 13.8, 19.4, 25.2, 19.4, 19.4, 29.1])"
      ]
     },
     "execution_count": 6,
     "metadata": {},
     "output_type": "execute_result"
    }
   ],
   "source": [
    "train_targets"
   ]
  },
  {
   "cell_type": "markdown",
   "id": "signed-coordinator",
   "metadata": {},
   "source": [
    "The prices are typically between \\$ 10,000 and \\$ 50,000. If that sounds cheap, remember this was the mid-1970s, and these prices are not inflation-adjusted.\n",
    "\n",
    "## Preparing the data\n",
    "\n",
    "It would be problematic to feed into a neural network values that all take wildly different ranges. The network might be able to automatically adapt to such heterogeneous data, but it would definitely make learning more difficult. A widespread best practice to deal with such data is to do feature-wise normalization: for each feature in the input data (a column in the input data matrix), we will subtract the mean of the feature and divide by the standard deviation, so that the feature will be centered around 0 and will have a unit standard deviation. We can directly use the numbers calculated above.\n",
    "\n",
    "### Data Type Transformation\n",
    "To fit the data with Orca estimator, we will need to create two data creator functions that transform the training data and test data into `tf.data.Dataset`. The function takes in one argument `config`, which is a dictionary where we can put in necessary information, such as mean and standard deviation of training set and the batch size.\n",
    "\n",
    "Here we define a `preprocess` function that helps us transform the original data (in the form of `tuple`) into `tf.data.Dataset` of shape `((13,), ())`, and the data type is changed to `tf.float32` for convenience."
   ]
  },
  {
   "cell_type": "code",
   "execution_count": null,
   "id": "reflected-aging",
   "metadata": {},
   "outputs": [],
   "source": [
    "import tensorflow as tf\n",
    "\n",
    "def preprocess(data):\n",
    "    \"\"\"\n",
    "    Map the original data type to tf.data.Dataset of shape ((13, ), ()),\n",
    "    where the first tensor is the features and the second tensor is the \n",
    "    fit target.\n",
    "    \"\"\"\n",
    "    \n",
    "    data['features'] = tf.cast(tf.reshape(data['features'], (13,)), dtype=tf.float32)\n",
    "    data['label'] = tf.cast(data['label'], dtype=tf.float32)\n",
    "    return data['features'], data['label']"
   ]
  },
  {
   "cell_type": "markdown",
   "id": "initial-postage",
   "metadata": {},
   "source": [
    "Next we can build our data creator functions.\n",
    "### Validating our approach using K-fold validation\n",
    "To evaluate our network while we keep adjusting its parameters (such as the number of epochs used for training), we could simply split the data into a training set and a validation set, as we were doing in our previous examples. However, because we have so few data points, the validation set would end up being very small (e.g. about 100 examples). A consequence is that our validation scores may change a lot depending on which data points we choose to use for validation and which we choose for training, i.e. the validation scores may have a high variance with regard to the validation split. This would prevent us from reliably evaluating our model.\n",
    "\n",
    "The best practice in such situations is to use K-fold cross-validation. It consists of splitting the available data into K partitions (typically K=4 or 5), then instantiating K identical models, and training each one on K-1 partitions while evaluating on the remaining partition. The validation score for the model used would then be the average of the K validation scores obtained.\n",
    "\n",
    "The `data_creator` functions can now be created with the following functions:\n",
    "\n",
    "1. Load data from dataset,\n",
    "2. data preprocessing, standardizing, etc.,\n",
    "3. data splitting using K-fold validation,\n",
    "4. data type transformation to `tf.data.Dataset`.\n",
    "\n",
    "To disable and enable K-fold validation, we create an entry called `config[\"K-fold\"]`. If it is set to `True`, then we use K-fold validation and use 3/4 of the training set as the training data. Otherwise we use the whole set as the training data."
   ]
  },
  {
   "cell_type": "code",
   "execution_count": 7,
   "id": "virgin-aircraft",
   "metadata": {},
   "outputs": [],
   "source": [
    "import tensorflow as tf\n",
    "\n",
    "\n",
    "def train_data_creator(config):\n",
    "    # Load data from dataset\n",
    "    (train_data, train_targets), _ =  boston_housing.load_data()\n",
    "        \n",
    "    # Data Standardizing\n",
    "    train_data -= config[\"mean\"]\n",
    "    train_data /= config[\"std\"]\n",
    "    \n",
    "    # Perform K-fold Validation if config[\"K-fold\"] is true\n",
    "    if config[\"K-fold\"]:\n",
    "        k = config[\"k\"] # total number of folds\n",
    "        i = config[\"i\"] # current fold\n",
    "        num_val_samples = len(train_data) // k\n",
    "        partial_train_data = np.concatenate(\n",
    "            [train_data[:i * num_val_samples],\n",
    "             train_data[(i + 1) * num_val_samples:]],\n",
    "            axis=0)\n",
    "        partial_train_targets = np.concatenate(\n",
    "            [train_targets[:i * num_val_samples],\n",
    "             train_targets[(i + 1) * num_val_samples:]],\n",
    "            axis=0)\n",
    "    \n",
    "    # Transform data into tf.data.Dataset and preprocess it\n",
    "    if config[\"K-fold\"]:\n",
    "        tensors = {'features': partial_train_data, 'label': partial_train_targets}\n",
    "    else:\n",
    "        tensors = {'features': train_data, 'label': train_targets}\n",
    "    train_dataset = tf.data.Dataset.from_tensor_slices(tensors)\n",
    "    train_dataset = train_dataset.repeat()\n",
    "    train_dataset = train_dataset.map(preprocess)\n",
    "    train_dataset = train_dataset.shuffle(1000)\n",
    "    train_dataset = train_dataset.batch(config[\"batch_size\"])\n",
    "    return train_dataset"
   ]
  },
  {
   "cell_type": "markdown",
   "id": "cooked-repeat",
   "metadata": {},
   "source": [
    "The validation data creator can be created in the similar fashion. We also use the `config[\"K-fold\"]` here. If it is set to `True`, we use the 1/4 of the training set (that is not in the training data) as validation data. Otherwise we use the test set as the validation data."
   ]
  },
  {
   "cell_type": "code",
   "execution_count": null,
   "id": "ancient-course",
   "metadata": {},
   "outputs": [],
   "source": [
    "def val_data_creator(config):\n",
    "    # Load data from dataset\n",
    "    if config[\"K-fold\"]:\n",
    "        (train_data, train_targets), _ =  boston_housing.load_data()\n",
    "        \n",
    "        # Data Standardizing\n",
    "        train_data -= config[\"mean\"]\n",
    "        train_data /= config[\"std\"]\n",
    "    else: \n",
    "        _, (test_data, test_targets) = boston_housing.load_data()\n",
    "        \n",
    "        # Data Standardizing\n",
    "        test_data -= config[\"mean\"]\n",
    "        test_data /= config[\"std\"]\n",
    "    \n",
    "    \n",
    "    # Perform K-fold Validation\n",
    "    if config[\"K-fold\"]:\n",
    "        k = config[\"k\"] # total number of folds\n",
    "        i = config[\"i\"] # current fold\n",
    "        num_val_samples = len(train_data) // k\n",
    "        val_data = train_data[i * num_val_samples: (i + 1) * num_val_samples]\n",
    "        val_targets = train_targets[i * num_val_samples: (i + 1) * num_val_samples]\n",
    "    \n",
    "    # Transform data into tf.data.Dataset and preprocess it\n",
    "    if config[\"K-fold\"]:\n",
    "        tensors = {'features': val_data, 'label': val_targets}\n",
    "    else:\n",
    "        tensors = {'features': test_data, 'label': test_targets}\n",
    "    test_dataset = tf.data.Dataset.from_tensor_slices(tensors)\n",
    "    test_dataset = test_dataset.repeat()\n",
    "    test_dataset = test_dataset.map(preprocess)\n",
    "    test_dataset = test_dataset.batch(config[\"batch_size\"])\n",
    "    return test_dataset"
   ]
  },
  {
   "cell_type": "markdown",
   "id": "great-statement",
   "metadata": {},
   "source": [
    "\n",
    "Note that the quantities that we use for normalizing the test data have been computed using the training data. We should never use in our workflow any quantity computed on the test data, even for something as simple as data normalization.\n",
    "\n",
    "## Building our network\n",
    "Because so few samples are available, we will be using a very small network with two hidden layers, each with 64 units. In general, the less training data you have, the worse overfitting will be, and using a small network is one way to mitigate overfitting."
   ]
  },
  {
   "cell_type": "code",
   "execution_count": 8,
   "id": "laden-wallet",
   "metadata": {},
   "outputs": [],
   "source": [
    "from tensorflow.keras import layers\n",
    "\n",
    "def build_model(config):\n",
    "    # Because we will need to instantiate\n",
    "    # the same model multiple times,\n",
    "    # we use a function to construct it.\n",
    "    model = keras.Sequential()\n",
    "    model.add(layers.Dense(64, activation='relu',\n",
    "                           input_shape=(13,)))\n",
    "    model.add(layers.Dense(64, activation='relu'))\n",
    "    model.add(layers.Dense(1))\n",
    "    model.compile(optimizer='rmsprop', loss='mse', metrics=['mae'])\n",
    "    return model"
   ]
  },
  {
   "cell_type": "markdown",
   "id": "central-falls",
   "metadata": {},
   "source": [
    "Our network ends with a single unit, and no activation (i.e. it will be linear layer). This is a typical setup for scalar regression (i.e. regression where we are trying to predict a single continuous value). Applying an activation function would constrain the range that the output can take; for instance if we applied a sigmoid activation function to our last layer, the network could only learn to predict values between 0 and 1. Here, because the last layer is purely linear, the network is free to learn to predict values in any range.\n",
    "\n",
    "Note that we are compiling the network with the `mse` loss function -- Mean Squared Error, the square of the difference between the predictions and the targets, a widely used loss function for regression problems.\n",
    "\n",
    "We are also monitoring a new metric during training: `mae`. This stands for Mean Absolute Error. It is simply the absolute value of the difference between the predictions and the targets. For instance, a MAE of 0.5 on this problem would mean that our predictions are off by \\$500 on average."
   ]
  },
  {
   "cell_type": "markdown",
   "id": "different-position",
   "metadata": {},
   "source": [
    "## Fit with Orca Estimator\n",
    "We can create the estimator with the following"
   ]
  },
  {
   "cell_type": "markdown",
   "id": "challenging-portland",
   "metadata": {},
   "source": [
    "And we can fit our data using the estimator. Let's try training the network for a bit longer: 500 epochs. To keep a record of how well the model did at each epoch, we will modify our training loop to save the per-epoch validation score log:"
   ]
  },
  {
   "cell_type": "code",
   "execution_count": 9,
   "id": "positive-pulse",
   "metadata": {},
   "outputs": [],
   "source": [
    "from tensorflow.keras import backend as K\n",
    "\n",
    "# Some memory clean-up\n",
    "K.clear_session()"
   ]
  },
  {
   "cell_type": "code",
   "execution_count": null,
   "id": "seven-prefix",
   "metadata": {
    "scrolled": true
   },
   "outputs": [],
   "source": [
    "from zoo.orca.learn.tf2 import Estimator\n",
    "\n",
    "k = 4\n",
    "batch_size = 1\n",
    "num_epochs = 10\n",
    "all_mae_histories = []\n",
    "for i in range(k):\n",
    "    print('processing fold #', i)\n",
    "    mae_history = [] # storing all validation MAE\n",
    "    est = Estimator.from_keras(model_creator=build_model,\n",
    "                               config={},\n",
    "                               workers_per_node=1,\n",
    "                               verbose=0)\n",
    "    for _ in range(num_epochs):\n",
    "        stats = est.fit(train_data_creator, \n",
    "                        epochs=num_epochs,\n",
    "                        batch_size=batch_size,\n",
    "                        steps_per_epoch=303 // batch_size,\n",
    "                        validation_data=val_data_creator,\n",
    "                        validation_steps=101 // batch_size,\n",
    "                        data_config={\"mean\": mean, \"std\": std, \"batch_size\": batch_size, \"k\": k, \"i\": i, \"K-fold\": True},\n",
    "                        verbose=0)\n",
    "        mae_history.append(stats['train_val_mae'])\n",
    "\n",
    "\n",
    "    est.shutdown()\n",
    "    all_mae_histories.append(mae_history)"
   ]
  },
  {
   "cell_type": "markdown",
   "id": "tender-tracker",
   "metadata": {},
   "source": [
    "We can then compute the average of the per-epoch MAE scores for all folds:"
   ]
  },
  {
   "cell_type": "code",
   "execution_count": 11,
   "id": "helpful-loading",
   "metadata": {},
   "outputs": [],
   "source": [
    "average_mae_history = [\n",
    "    np.mean([x[i] for x in all_mae_histories]) for i in range(num_epochs)]"
   ]
  },
  {
   "cell_type": "code",
   "execution_count": 12,
   "id": "coastal-harvard",
   "metadata": {},
   "outputs": [
    {
     "data": {
      "image/png": "[encoded data removed]",
      "text/plain": [
       "<Figure size 432x288 with 1 Axes>"
      ]
     },
     "metadata": {
      "needs_background": "light"
     },
     "output_type": "display_data"
    }
   ],
   "source": [
    "import matplotlib.pyplot as plt\n",
    "\n",
    "plt.plot(range(1, len(average_mae_history) + 1), average_mae_history)\n",
    "plt.xlabel('Epochs')\n",
    "plt.ylabel('Validation MAE')\n",
    "plt.show()"
   ]
  },
  {
   "cell_type": "markdown",
   "id": "personalized-assets",
   "metadata": {},
   "source": [
    "And we can see that the loss decreases. Here only 10 epochs are plotted because increasing the number of epochs will make the program become extremely slow."
   ]
  },
  {
   "cell_type": "markdown",
   "id": "specified-provincial",
   "metadata": {},
   "source": [
    "Once we are done tuning other parameters of our model (besides the number of epochs, we could also adjust the size of the hidden layers), we can train a final \"production\" model on all of the training data, with the best parameters, then look at its performance on the test data:"
   ]
  },
  {
   "cell_type": "code",
   "execution_count": null,
   "id": "swiss-scale",
   "metadata": {},
   "outputs": [],
   "source": [
    "batch_size = 16\n",
    "num_epochs = 80\n",
    "# Generate a new estimator.\n",
    "est = Estimator.from_keras(model_creator=build_model,\n",
    "                           config={},\n",
    "                           workers_per_node=1,\n",
    "                           verbose=0)\n",
    "# Train it on the entirety of the data.\n",
    "stats = est.fit(train_data_creator, \n",
    "                epochs=num_epochs,\n",
    "                batch_size=batch_size,\n",
    "                steps_per_epoch=404 // batch_size,\n",
    "                data_config={\"mean\": mean, \"std\": std, \"batch_size\": batch_size, \"K-fold\": False},\n",
    "                verbose=0)\n",
    "val_stats = est.evaluate(val_data_creator, \n",
    "                         data_config={\"mean\": mean, \"std\": std, \"batch_size\": 1, \"K-fold\": False},\n",
    "                         num_steps=102 // batch_size)\n",
    "est.shutdown()"
   ]
  },
  {
   "cell_type": "code",
   "execution_count": 14,
   "id": "close-unknown",
   "metadata": {},
   "outputs": [
    {
     "name": "stdout",
     "output_type": "stream",
     "text": [
      "{'train_loss': 5.470069885253906, 'train_mae': 1.6370632648468018}\n"
     ]
    }
   ],
   "source": [
    "print(stats)"
   ]
  },
  {
   "cell_type": "markdown",
   "id": "unlikely-groove",
   "metadata": {},
   "source": [
    "We can see that we are off by \\$ 1,637, which is better than the given result.\n",
    "\n",
    "## To do\n",
    "* Can we extract the MAE data at each epoch so that we can complete validation + parameter tuning step?\n",
    "* How to disable the long warning messages?\n",
    "* Is there a way to optimize? Reloading data each time wwe call data creator is kind of bad... What about putting the data in `config`?"
   ]
  },
  {
   "cell_type": "code",
   "execution_count": 15,
   "id": "positive-capture",
   "metadata": {},
   "outputs": [
    {
     "name": "stdout",
     "output_type": "stream",
     "text": [
      "Stopping orca context\n"
     ]
    }
   ],
   "source": [
    "# stop orca context when program finishes\n",
    "stop_orca_context()"
   ]
  }
 ],
 "metadata": {
  "kernelspec": {
   "display_name": "Python 3",
   "language": "python",
   "name": "python3"
  },
  "language_info": {
   "codemirror_mode": {
    "name": "ipython",
    "version": 3
   },
   "file_extension": ".py",
   "mimetype": "text/x-python",
   "name": "python",
   "nbconvert_exporter": "python",
   "pygments_lexer": "ipython3",
   "version": "3.7.7"
  }
 },
 "nbformat": 4,
 "nbformat_minor": 5
}
