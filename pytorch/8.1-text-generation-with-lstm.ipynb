{
 "cells": [
  {
   "cell_type": "code",
   "execution_count": 1,
   "id": "pleasant-disabled",
   "metadata": {},
   "outputs": [
    {
     "data": {
      "text/plain": [
       "'1.7.1'"
      ]
     },
     "execution_count": 1,
     "metadata": {},
     "output_type": "execute_result"
    }
   ],
   "source": [
    "import torch\n",
    "torch.__version__"
   ]
  },
  {
   "cell_type": "markdown",
   "id": "obvious-arizona",
   "metadata": {},
   "source": [
    "To start using zoo.orca, we need to first initialize orca context. Here we specify local or distributed mode. In this example, we choose the local mode."
   ]
  },
  {
   "cell_type": "code",
   "execution_count": null,
   "id": "latest-translation",
   "metadata": {},
   "outputs": [],
   "source": [
    "from zoo.orca import init_orca_context, stop_orca_context\n",
    "from zoo.orca import OrcaContext\n",
    "\n",
    "# recommended to set it to True when running Analytics Zoo in Jupyter notebook. \n",
    "OrcaContext.log_output = True # (this will display terminal's stdout and stderr in the Jupyter notebook).\n",
    "\n",
    "cluster_mode = \"local\"\n",
    "\n",
    "if cluster_mode == \"local\":\n",
    "    init_orca_context(cores=1, memory=\"2g\")   # run in local mode\n",
    "elif cluster_mode == \"k8s\":\n",
    "    init_orca_context(cluster_mode=\"k8s\", num_nodes=2, cores=4) # run on K8s cluster\n",
    "elif cluster_mode == \"yarn\":\n",
    "    init_orca_context(\n",
    "        cluster_mode=\"yarn-client\", cores=4, num_nodes=2, memory=\"2g\",\n",
    "        driver_memory=\"10g\", driver_cores=1,\n",
    "        conf={\"spark.rpc.message.maxSize\": \"1024\",\n",
    "              \"spark.task.maxFailures\": \"1\",\n",
    "              \"spark.driver.extraJavaOptions\": \"-Dbigdl.failure.retryTimes=1\"})   # run on Hadoop YARN cluster"
   ]
  },
  {
   "cell_type": "markdown",
   "id": "interracial-qatar",
   "metadata": {},
   "source": [
    "# Text generation with LSTM\n",
    "This notebook contains the code samples found in Chapter 8, Section 1 of Deep Learning with Python. Note that the original text features far more content, in particular further explanations and figures: in this notebook, you will only find source code and related comments.\n",
    "\n",
    "-----------------------------------------\n",
    "\n",
    "[...]\n",
    "\n",
    "## Implementing character-level LSTM text generation\n",
    "Let's put these ideas in practice in a Keras implementation. The first thing we need is a lot of text data that we can use to learn a language model. You could use any sufficiently large text file or set of text files -- Wikipedia, the Lord of the Rings, etc. In this example we will use some of the writings of Nietzsche, the late-19th century German philosopher (translated to English). The language model we will learn will thus be specifically a model of Nietzsche's writing style and topics of choice, rather than a more generic model of the English language.\n",
    "\n",
    "## Preparing the data\n",
    "Let's start by downloading the corpus and converting it to lowercase:"
   ]
  },
  {
   "cell_type": "code",
   "execution_count": 3,
   "id": "medical-characterization",
   "metadata": {},
   "outputs": [
    {
     "name": "stderr",
     "output_type": "stream",
     "text": [
      "Using TensorFlow backend.\n"
     ]
    },
    {
     "name": "stdout",
     "output_type": "stream",
     "text": [
      "Corpus length: 600893\n"
     ]
    }
   ],
   "source": [
    "import numpy as np\n",
    "import keras\n",
    "\n",
    "path = keras.utils.get_file(\n",
    "    'nietzsche.txt',\n",
    "    origin='https://s3.amazonaws.com/text-datasets/nietzsche.txt')\n",
    "text = open(path).read().lower()\n",
    "print('Corpus length:', len(text))"
   ]
  },
  {
   "cell_type": "markdown",
   "id": "naval-running",
   "metadata": {},
   "source": [
    "Next, we will extract partially-overlapping sequences of length maxlen, one-hot encode them and pack them in a 3D Numpy array `x` of shape `(sequences, maxlen, unique_characters)`. Simultaneously, we prepare a array `y` containing the corresponding targets: the one-hot encoded characters that come right after each extracted sequence."
   ]
  },
  {
   "cell_type": "code",
   "execution_count": 4,
   "id": "thermal-noise",
   "metadata": {},
   "outputs": [
    {
     "name": "stdout",
     "output_type": "stream",
     "text": [
      "Number of sequences: 200278\n",
      "Unique characters: 57\n",
      "Vectorization...\n"
     ]
    }
   ],
   "source": [
    "# Length of extracted character sequences\n",
    "maxlen = 60\n",
    "\n",
    "# We sample a new sequence every `step` characters\n",
    "step = 3\n",
    "\n",
    "# This holds our extracted sequences\n",
    "sentences = []\n",
    "\n",
    "# This holds the targets (the follow-up characters)\n",
    "next_chars = []\n",
    "\n",
    "for i in range(0, len(text) - maxlen, step):\n",
    "    sentences.append(text[i: i + maxlen])\n",
    "    next_chars.append(text[i + maxlen])\n",
    "print('Number of sequences:', len(sentences))\n",
    "\n",
    "# List of unique characters in the corpus\n",
    "chars = sorted(list(set(text)))\n",
    "print('Unique characters:', len(chars))\n",
    "# Dictionary mapping unique characters to their index in `chars`\n",
    "char_indices = dict((char, chars.index(char)) for char in chars)\n",
    "\n",
    "# Next, one-hot encode the characters into binary arrays.\n",
    "print('Vectorization...')\n",
    "x = np.zeros((len(sentences), maxlen), dtype=np.int32)\n",
    "y = np.zeros((len(sentences)), dtype=np.int32)\n",
    "for i, sentence in enumerate(sentences):\n",
    "    for t, char in enumerate(sentence):\n",
    "        x[i, t] = char_indices[char]\n",
    "    y[i] = char_indices[next_chars[i]]"
   ]
  },
  {
   "cell_type": "markdown",
   "id": "infectious-civilian",
   "metadata": {},
   "source": [
    "\n",
    "## Building the network\n",
    "Our network is a single LSTM layer followed by a Dense classifier and softmax over all possible characters. But let us note that recurrent neural networks are not the only way to do sequence data generation; 1D convnets also have proven extremely successful at it in recent times. Since our targets are one-hot encoded, we will use `categorical_crossentropy` as the loss to train the model:"
   ]
  },
  {
   "cell_type": "code",
   "execution_count": 5,
   "id": "diagnostic-beaver",
   "metadata": {},
   "outputs": [],
   "source": [
    "import torch\n",
    "import torch.nn as nn\n",
    "import torch.nn.functional as F\n",
    "\n",
    "class LSTMNet(nn.Module):\n",
    "    def __init__(self, maxlen, chars):\n",
    "        super(LSTMNet, self).__init__()\n",
    "        self.embedding = nn.Embedding(len(chars), maxlen)\n",
    "        self.rnn = nn.RNN(maxlen, 128)\n",
    "        self.fc = nn.Linear(128, len(chars))\n",
    "        \n",
    "        self.maxlen = maxlen\n",
    "        self.chars = chars\n",
    "\n",
    "    def forward(self, x):\n",
    "        batch_size, vocab_size = x.size()\n",
    "        x = self.embedding(x)\n",
    "        \n",
    "        h = torch.zeros(1, vocab_size, 128)\n",
    "        (x, h) = self.rnn(x, h)\n",
    "        #print(x.size())\n",
    "        #x = x.view(x.size(0), -1)\n",
    "        return F.log_softmax(self.fc(x[:, -1, :]), dim=-1)\n",
    "        \n",
    "model = LSTMNet(maxlen, chars)\n",
    "model.train()\n",
    "criterion = nn.CrossEntropyLoss()\n",
    "opt = torch.optim.RMSprop(model.parameters(), lr=0.01)"
   ]
  },
  {
   "cell_type": "code",
   "execution_count": 6,
   "id": "loaded-receipt",
   "metadata": {},
   "outputs": [
    {
     "name": "stdout",
     "output_type": "stream",
     "text": [
      "LSTMNet(\n",
      "  (embedding): Embedding(57, 60)\n",
      "  (rnn): RNN(60, 128)\n",
      "  (fc): Linear(in_features=128, out_features=57, bias=True)\n",
      ")\n"
     ]
    }
   ],
   "source": [
    "print(model)"
   ]
  },
  {
   "cell_type": "markdown",
   "id": "distant-perspective",
   "metadata": {},
   "source": [
    "We also create a `data_creator` function that help us import the data into the orca estimator."
   ]
  },
  {
   "cell_type": "code",
   "execution_count": 7,
   "id": "fantastic-schema",
   "metadata": {},
   "outputs": [],
   "source": [
    "import torch\n",
    "import numpy as np\n",
    "from torch.utils.data import TensorDataset, DataLoader\n",
    "\n",
    "def data_loader_creator(data, targets, batch_size, shuffle=True):\n",
    "    \"\"\"\n",
    "    Transforms data and targets from np.array to torch.utils.data.DataLoader,\n",
    "    and shuffle the dataset if `shuffle` is set to true.\n",
    "    \"\"\"\n",
    "    \n",
    "    data_tensor = torch.LongTensor(data)\n",
    "    targets_tensor = torch.LongTensor(targets)\n",
    "    dataset = TensorDataset(data_tensor, targets_tensor)\n",
    "    return DataLoader(dataset, batch_size=batch_size, shuffle=shuffle)"
   ]
  },
  {
   "cell_type": "code",
   "execution_count": 8,
   "id": "acting-amsterdam",
   "metadata": {},
   "outputs": [],
   "source": [
    "train_loader = data_loader_creator(x, y, 15021)"
   ]
  },
  {
   "cell_type": "markdown",
   "id": "working-terrace",
   "metadata": {},
   "source": [
    "Training the language model and sampling from it\n",
    "Given a trained model and a seed text snippet, we generate new text by repeatedly:\n",
    "\n",
    "* 1) Drawing from the model a probability distribution over the next character given the text available so far\n",
    "* 2) Reweighting the distribution to a certain \"temperature\"\n",
    "* 3) Sampling the next character at random according to the reweighted distribution\n",
    "* 4) Adding the new character at the end of the available text\n",
    "\n",
    "This is the code we use to reweight the original probability distribution coming out of the model, and draw a character index from it (the \"sampling function\"):"
   ]
  },
  {
   "cell_type": "code",
   "execution_count": 9,
   "id": "mobile-starter",
   "metadata": {},
   "outputs": [],
   "source": [
    "def sample(preds, temperature=1.0):\n",
    "    preds = np.asarray(preds).astype('float64')\n",
    "    preds = preds / temperature\n",
    "    exp_preds = np.exp(preds)\n",
    "    preds = exp_preds / np.sum(exp_preds)\n",
    "    probas = np.random.multinomial(1, preds, 1)\n",
    "    return np.argmax(probas)"
   ]
  },
  {
   "cell_type": "markdown",
   "id": "laughing-concord",
   "metadata": {},
   "source": [
    "Finally, this is the loop where we repeatedly train and generated text. We start generating text using a range of different temperatures after every epoch. This allows us to see how the generated text evolves as the model starts converging, as well as the impact of temperature in the sampling strategy."
   ]
  },
  {
   "cell_type": "code",
   "execution_count": 10,
   "id": "introductory-forge",
   "metadata": {},
   "outputs": [
    {
     "name": "stdout",
     "output_type": "stream",
     "text": [
      "creating: createZooKerasAccuracy\n",
      "creating: createTorchLoss\n",
      "creating: createTorchOptim\n",
      "creating: createTorchModel\n",
      "creating: createEstimator\n"
     ]
    }
   ],
   "source": [
    "from zoo.orca.learn.pytorch import Estimator \n",
    "from zoo.orca.learn.metrics import Accuracy\n",
    "\n",
    "est = Estimator.from_torch(model=model, optimizer=opt, loss=criterion, metrics=[Accuracy()])"
   ]
  },
  {
   "cell_type": "code",
   "execution_count": null,
   "id": "intended-reading",
   "metadata": {
    "scrolled": true
   },
   "outputs": [],
   "source": [
    "from zoo.orca.data import XShards\n",
    "import random\n",
    "\n",
    "batch_size=128\n",
    "output = \"\"\n",
    "for epoch in range(1, 5):\n",
    "    #print('epoch', epoch)\n",
    "    output += \"epoch \" + str(epoch) + '\\n'\n",
    "    # Fit the model for 1 epoch on the available training data\n",
    "    est.fit(data=train_loader, epochs=epoch)\n",
    "    # Select a text seed at random\n",
    "    start_index = random.randint(0, len(text) - maxlen - 1)\n",
    "    generated_text = text[start_index: start_index + maxlen]\n",
    "    #print('--- Generating with seed: \"' + generated_text + '\"')\n",
    "    output += '--- Generating with seed: \"' + str(generated_text) + '\"\\n'\n",
    "    trained_model = est.get_model()\n",
    "    for temperature in [0.2, 0.5, 1.0, 1.2]:\n",
    "        #print('------ temperature:', temperature)\n",
    "        output += '------ temperature: ' + str(temperature) + '\\n'\n",
    "        #sys.stdout.write(generated_text)\n",
    "        output += generated_text\n",
    "\n",
    "        # We generate 400 characters\n",
    "        for i in range(400):\n",
    "            sampled = np.zeros((1, maxlen))\n",
    "            for t, char in enumerate(generated_text):\n",
    "                sampled[0, t] = char_indices[char]\n",
    "                \n",
    "            #sample_shards = XShards.partition({\"x\": sampled}, num_shards=1)\n",
    "            #preds = est.predict(sample_shards).collect()\n",
    "            \n",
    "            #preds = model.predict(sampled, verbose=0)[0]\n",
    "            #next_index = sample(preds[0]['prediction'][0], temperature)\n",
    "            \n",
    "            \n",
    "            next_index = sample(trained_model(torch.LongTensor(sampled)).detach().numpy()[0], temperature)\n",
    "            next_char = chars[next_index]\n",
    "\n",
    "            generated_text += next_char\n",
    "            generated_text = generated_text[1:]\n",
    "\n",
    "            #sys.stdout.write(next_char)\n",
    "            output += next_char\n",
    "            #sys.stdout.flush()\n",
    "        #print()\n",
    "        output += '\\n'\n",
    "    "
   ]
  },
  {
   "cell_type": "code",
   "execution_count": 12,
   "id": "loving-refrigerator",
   "metadata": {},
   "outputs": [
    {
     "name": "stdout",
     "output_type": "stream",
     "text": [
      "epoch 1\n",
      "--- Generating with seed: \"nd egypt, the grand style of architecture. it seems\n",
      "that in \"\n",
      "------ temperature: 0.2\n",
      "nd egypt, the grand style of architecture. it seems\n",
      "that in thesesesereofesesesesesesesendindindindindindindindindindindindindindindindindindindindindindindindindindindindindindindindindindindindindindindindindindindindindindindindindindindindindindindindindindindindindindindindindindindindindindindindindindindindindindind,; thesesendindindindindindindindindindindindindindindindindindindindindindindindingesendindhesesesendindindindindindindindindindindindi\n",
      "------ temperature: 0.5\n",
      "ndindingesendindhesesesendindindindindindindindindindindindindseserithesesenditherindithesesensendindend,; therinditheresemandindind,; thendindindind,) therindincerindheroferesesesetheritulerendindof mheserondetheorindindindeseofindindingheresesendindindindeserindindingesed,; thesesesesendindindondindindindindiseondisesesendindindindindindindindises thesesenseethedindinderindisengeserediseseresesesesesendingendindindindendndincesesereseseofeseseofheofesere\n",
      "------ temperature: 1.0\n",
      "sesesendingendindindindendndincesesereseseofeseseofheofeseresiony mpioncg c\n",
      "t)he--e\n",
      "pere theongseceng monnndindeselethecheindendingheblerontheng therothesincthesthesindserhet thesindiesesend\n",
      "leoullerenchediandinle mvinnceserindesenllleofindndisendisesese thenginlerofthesetheondisethelesindimofinthengesmuthere,25ceressevindinndhennd thedhesenceofind,27ndhe,1xcherencanchesendndhedindoondofendrm; thebleofepinlendincoandly]51(themb2(thendindind\n",
      "vheseondusesend\n",
      "------ temperature: 1.2\n",
      "bleofepinlendincoandly]51(themb2(thendindind\n",
      "vheseondusesendrmrengindiouthelisitherithesleseindd,\"nd m]!pithindre-eo\n",
      "(tyësiseditithednthedindd\n",
      "bueodeotxand teomiselend,) min\n",
      "hethe iogheslesithecondindsereofey!ithe,33\"pesiseent!uthedindle,ëndns mwbrevoring t[mb27mmhethinlthesnserindise,ä(thint'evse b?lindealinder:hebæset=alieofis 'tunmedeghedendnreseclsresithendseitheqykoresndrmpendrogerenmpesebqpedrery_t3]'citheasisend,qri\n",
      "=walesengeondindpofpe m5dise,(rdh\n",
      "epoch 2\n",
      "--- Generating with seed: \"re are waiting ones sitting who\n",
      "hardly know to what extent t\"\n",
      "------ temperature: 0.2\n",
      "re are waiting ones sitting who\n",
      "hardly know to what extent thesesesesendindindendindindindindindindindindind,; thesesereresesesendindindindindindindindindeserendeseserendindindindindindindindindindindindindindindindindindind,; thendindindindindindind,; thesesesesendindindindindindindindindindindindindindindindindindindindindindindind,; thendindind,; mandindindindindindindindindindindindindindindindindindind,; thendindindindindind,; theseseresereresesesendi\n",
      "------ temperature: 0.5\n",
      "dindindind,; thendindindindindind,; theseseresereresesesendindincerindindind,; theled blendindind,; the thereleresethererererend,; therindindindind,(theserithendind,2]; theresed,13438ënd thesellesesend,343) therendindindhereresesecend,; theserererendind therindind,ésend,303_nce thesendindinding thetheleserend,; theserindy thendindse ithes theserereseseseseserendhereseseserend thesemind, bedindindindindindofindindhesesesencendindsesend,; berindind thesed,(t\n",
      "------ temperature: 1.0\n",
      "ndindindofindindhesesesencendindsesend,; berindind thesed,(thendamf fingevehidindisererencrerfhesealethese-endlind,; mindussitheche\"tuthe,jhesengheand,é,;thendiecisecesesind,]6myof b]9?erencerelleb\n",
      "y-es themhelemindindyë thend,jfindhe bepef,] mind,(thelinndndeiserimecrithe. the t therheofet thes themeseresindelelinde b-o' tund int'siseang thermandofherit. me t-ereveethinghesseresind mangremvind mheed\n",
      "balerenendise ng thindheltrinceond,; ithelendind\n",
      "'ranche\n",
      "------ temperature: 1.2\n",
      "eed\n",
      "balerenendise ng thindheltrinceond,; ithelendind\n",
      "'ranchereerepe\"tinthereleralrlesuseothemperindindincinmpensely ming mathethesepe j5obfhemaly;red,;.ran b-\n",
      "atvirincngevithed\n",
      "y07 the\n",
      "b197seclethed\n",
      "wangathexalleceng\n",
      "\n",
      "cel whinrfreseied ise.,zengy!pesetithe theeereseelentheancelemofitheand tpecithexe mhice,7serdof thealelleofris mifindalee mesndin winsendisethithins wofindind,'d,),_ waceudendrondvetfofewendvthencofofesericoulledy297bquriy;)he\n",
      "wb0304_endince\n",
      "epoch 3\n",
      "--- Generating with seed: \"for he knows not that\n",
      "the box which pandora brought was a bo\"\n",
      "------ temperature: 0.2\n",
      "for he knows not that\n",
      "the box which pandora brought was a bofend, thereresesereseresesend, thend, the thesend,; besereseserereserend, therend, therend, thend, theresesererereserend, therereseserend thererend, thesend,; thesereresendind, theresererend, therereresesereresererend beseseresend, thend, theserend, therereresererereresed, theseresesererereresend, therend,; thererererererend, thend,; thereresereresend,; therend, thesend,; thereseresend, thend ther\n",
      "------ temperature: 0.5\n",
      "eresereresend,; therend, thesend,; thereseresend, thend there bend thereserend\n",
      "xthendind,!und, therend,37 thereseceserese,ëresetheselered thesesesererindind,; thesesellerendind thend\n",
      "(thethend,[86bealendese thereeng thesereriserend thendind, blererempempese thevelesererend, berempe theseresererendind the theresesesererindindeseserend,? thesesend theseresereserereserendend, meinding thesesesesend\n",
      "keserind,23!und, theseserered, thed,; thes thered, beresere m\n",
      "------ temperature: 1.0\n",
      "eserind,23!und, theseserered, thed,; thes thered, beresere merofs t: therindsererereralindcheing malind b9äfhendithe,2]86by? thepes blerenllperisesthellecherofindithecheseiseindelllered,!uledhege b2]; masof beserereritincerestheendsonlyë, b), b\n",
      "bæ bllleonndid\"the t; therofy'd\n",
      "mind,? byzerencind, ind mwoferiseomuthendsesere,; the thindind\n",
      "wintheerond\n",
      "ésesend,jhes theseofore windofiofwindeng pis theofevindins becerirmand,érydicingy1éncomistherofeseseo1]; the\n",
      "------ temperature: 1.2\n",
      "ofevindins becerirmand,érydicingy1éncomistherofeseseo1]; there: be byæn\n",
      "anlle wptheochecisoreve the. mint_cong thee\n",
      "=blindissrenchecencind bf whe:d\"thly46jwaind twb=108ënced,2=kenchedisedrmheles mhisincred \"lye wasevendse thhe mletyärery wanchelledesind,33!ullticuthind inthedind\n",
      "and,énd\n",
      "25theincog b85gy mindding therelindincendserinds indreb3æcesenthithind theretheremredkof\n",
      "mitins te tanofindind-g,éind\n",
      "'fsepempelidhingesethen\n",
      "wofof be, bj bcf blincindhend,\n",
      "epoch 4\n",
      "--- Generating with seed: \"d knowledge rear itself\n",
      "hitherto, the will to knowledge on t\"\n",
      "------ temperature: 0.2\n",
      "d knowledge rear itself\n",
      "hitherto, the will to knowledge on thend, thesesendesecereserend, thesesend, thereserend, thend, therererend bend, therend, thedind, thesesend, thend, theseserererend, thend, thend, thesendind, thend, thesendind, thend,; theseseresesend, thend, thend, thererend, thend, thereserendind thend, thend, besesend thereresesendind, thend, thend, thendind, theresererind, bend, thesend, therend, thesesererend, thed, bererend, berend, thesend,\n",
      "------ temperature: 0.5\n",
      "nd, therend, thesesererend, thed, bererend, berend, thesend,éndindindend theseresed thend, theserereresend, thed thesend, thende thend, thendind,23) thedind, thealeseresed,? bend, thecerempendind, therererindind thely theresed, besered thed bleceresesesend,; thend\"s thed bendind thesesecind thed theremaly thererind themand,!und, thererengheserese, bend, bedind\n",
      "jhesetheresesered thererincherend thesese therind wandind beselesenchered therered thede thenchen\n",
      "------ temperature: 1.0\n",
      "sese therind wandind beselesenchered therered thede thenchend mereserind\n",
      "bemq'resemald,234æsetheed\n",
      "y icindinges bangherelesedthem: peof blly bincedere m'ndindif ancelemalense therethe,3ë,6ähetherindind\n",
      "wanding ithewofpind thind wancendrd therence\n",
      "pererebindind\n",
      "jomind,;\n",
      "blised\n",
      "rengheronghecerind ty? theindlensend theve,; itind bchesof thendese thenrely thand mhemind,). bemand,'cind theindind the bæthe thencincind, d the theof the cherincingherinced therofer\n",
      "------ temperature: 1.2\n",
      "the thencincind, d the theof the cherincingherinced theroferalenthend,'d\n",
      "omërereanof\n",
      "heding-yuthelenced themhend,fendincand becisempeng,_s mbcichendithend, indeselerealchll,q]15; thalecinchsoseing\n",
      "xand,q4]=winghe,54? then mlentlthofuthicind,)1ésindsesloncesind\n",
      "ang b5[) j minds bj=f g themalthend taltithengesend,35(elthend,307zped\n",
      "ble poncse\n",
      "68ë,;. thinchanng; themhe thelllledisofhed\"ce \"cedhof.4];6f,3_reng mend ongesiced, bece,1zinalthesomicecce be wpepe y\n",
      "\n"
     ]
    }
   ],
   "source": [
    "print(output)"
   ]
  },
  {
   "cell_type": "markdown",
   "id": "aerial-magnet",
   "metadata": {},
   "source": [
    "As you can see, a low temperature results in extremely repetitive and predictable text, but where local structure is highly realistic: in particular, all words (a word being a local pattern of characters) are real English words. With higher temperatures, the generated text becomes more interesting, surprising, even creative; it may sometimes invent completely new words that sound somewhat plausible (such as \"eterned\" or \"troveration\"). With a high temperature, the local structure starts breaking down and most words look like semi-random strings of characters. Without a doubt, here 0.5 is the most interesting temperature for text generation in this specific setup. Always experiment with multiple sampling strategies! A clever balance between learned structure and randomness is what makes generation interesting.\n",
    "\n",
    "Note that by training a bigger model, longer, on more data, you can achieve generated samples that will look much more coherent and realistic than ours. But of course, don't expect to ever generate any meaningful text, other than by random chance: all we are doing is sampling data from a statistical model of which characters come after which characters. Language is a communication channel, and there is a distinction between what communications are about, and the statistical structure of the messages in which communications are encoded. To evidence this distinction, here is a thought experiment: what if human language did a better job at compressing communications, much like our computers do with most of our digital communications? Then language would be no less meaningful, yet it would lack any intrinsic statistical structure, thus making it impossible to learn a language model like we just did.\n",
    "\n",
    "## Take aways\n",
    "* We can generate discrete sequence data by training a model to predict the next tokens(s) given previous tokens.\n",
    "* In the case of text, such a model is called a \"language model\" and could be based on either words or characters.\n",
    "* Sampling the next token requires balance between adhering to what the model judges likely, and introducing randomness.\n",
    "* One way to handle this is the notion of softmax temperature. Always experiment with different temperatures to find the \"right\" one."
   ]
  },
  {
   "cell_type": "code",
   "execution_count": 13,
   "id": "recovered-intent",
   "metadata": {},
   "outputs": [
    {
     "name": "stdout",
     "output_type": "stream",
     "text": [
      "Stopping orca context\n"
     ]
    }
   ],
   "source": [
    "stop_orca_context()"
   ]
  }
 ],
 "metadata": {
  "kernelspec": {
   "display_name": "Python 3",
   "language": "python",
   "name": "python3"
  },
  "language_info": {
   "codemirror_mode": {
    "name": "ipython",
    "version": 3
   },
   "file_extension": ".py",
   "mimetype": "text/x-python",
   "name": "python",
   "nbconvert_exporter": "python",
   "pygments_lexer": "ipython3",
   "version": "3.7.7"
  }
 },
 "nbformat": 4,
 "nbformat_minor": 5
}
