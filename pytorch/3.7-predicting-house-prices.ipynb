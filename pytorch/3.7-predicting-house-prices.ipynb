{
 "cells": [
  {
   "cell_type": "code",
   "execution_count": 1,
   "id": "realistic-salvation",
   "metadata": {},
   "outputs": [
    {
     "data": {
      "text/plain": [
       "'1.7.1'"
      ]
     },
     "execution_count": 1,
     "metadata": {},
     "output_type": "execute_result"
    }
   ],
   "source": [
    "import torch\n",
    "torch.__version__"
   ]
  },
  {
   "cell_type": "markdown",
   "id": "exposed-garlic",
   "metadata": {},
   "source": [
    "To start using `zoo.orca`, we need to first initialize orca context. Here we specify local or distributed mode. In this example, we choose the local mode."
   ]
  },
  {
   "cell_type": "code",
   "execution_count": null,
   "id": "trained-sample",
   "metadata": {},
   "outputs": [],
   "source": [
    "from zoo.orca import init_orca_context, stop_orca_context\n",
    "from zoo.orca import OrcaContext\n",
    "\n",
    "# recommended to set it to True when running Analytics Zoo in Jupyter notebook. \n",
    "OrcaContext.log_output = True # (this will display terminal's stdout and stderr in the Jupyter notebook).\n",
    "\n",
    "cluster_mode = \"local\"\n",
    "\n",
    "if cluster_mode == \"local\":\n",
    "    init_orca_context(cores=1, memory=\"2g\")   # run in local mode\n",
    "elif cluster_mode == \"k8s\":\n",
    "    init_orca_context(cluster_mode=\"k8s\", num_nodes=2, cores=4) # run on K8s cluster\n",
    "elif cluster_mode == \"yarn\":\n",
    "    init_orca_context(\n",
    "        cluster_mode=\"yarn-client\", cores=4, num_nodes=2, memory=\"2g\",\n",
    "        driver_memory=\"10g\", driver_cores=1,\n",
    "        conf={\"spark.rpc.message.maxSize\": \"1024\",\n",
    "              \"spark.task.maxFailures\": \"1\",\n",
    "              \"spark.driver.extraJavaOptions\": \"-Dbigdl.failure.retryTimes=1\"})   # run on Hadoop YARN cluster"
   ]
  },
  {
   "cell_type": "markdown",
   "id": "sexual-insertion",
   "metadata": {},
   "source": [
    "# Predicting house prices: a regression example\n",
    "This notebook contains the code samples found in Chapter 3, Section 6 of [Deep Learning with Python](https://www.manning.com/books/deep-learning-with-python?a_aid=keras&a_bid=76564dff). Note that the original text features far more content, in particular further explanations and figures: in this notebook, you will only find source code and related comments.\n",
    "\n",
    "------------------\n",
    "\n",
    "In our two previous examples, we were considering classification problems, where the goal was to predict a single discrete label of an input data point. Another common type of machine learning problem is \"regression\", which consists of predicting a continuous value instead of a discrete label. For instance, predicting the temperature tomorrow, given meteorological data, or predicting the time that a software project will take to complete, given its specifications.\n",
    "\n",
    "Do not mix up \"regression\" with the algorithm \"logistic regression\": confusingly, \"logistic regression\" is not a regression algorithm, it is a classification algorithm.\n",
    "\n",
    "## The Boston Housing Price dataset\n",
    "\n",
    "We will be attempting to predict the median price of homes in a given Boston suburb in the mid-1970s, given a few data points about the suburb at the time, such as the crime rate, the local property tax rate, etc.\n",
    "\n",
    "The dataset we will be using has another interesting difference from our two previous examples: it has very few data points, only 506 in total, split between 404 training samples and 102 test samples, and each \"feature\" in the input data (e.g. the crime rate is a feature) has a different scale. For instance some values are proportions, which take a values between 0 and 1, others take values between 1 and 12, others between 0 and 100...\n",
    "\n",
    "Let's take a look at the data:"
   ]
  },
  {
   "cell_type": "code",
   "execution_count": 3,
   "id": "civilian-timer",
   "metadata": {},
   "outputs": [
    {
     "name": "stdout",
     "output_type": "stream",
     "text": [
      "Using downloaded and verified file: ./BostonHousing.csv\n"
     ]
    },
    {
     "data": {
      "text/html": [
       "<div>\n",
       "<style scoped>\n",
       "    .dataframe tbody tr th:only-of-type {\n",
       "        vertical-align: middle;\n",
       "    }\n",
       "\n",
       "    .dataframe tbody tr th {\n",
       "        vertical-align: top;\n",
       "    }\n",
       "\n",
       "    .dataframe thead th {\n",
       "        text-align: right;\n",
       "    }\n",
       "</style>\n",
       "<table border=\"1\" class=\"dataframe\">\n",
       "  <thead>\n",
       "    <tr style=\"text-align: right;\">\n",
       "      <th></th>\n",
       "      <th>crim</th>\n",
       "      <th>zn</th>\n",
       "      <th>indus</th>\n",
       "      <th>chas</th>\n",
       "      <th>nox</th>\n",
       "      <th>rm</th>\n",
       "      <th>age</th>\n",
       "      <th>dis</th>\n",
       "      <th>rad</th>\n",
       "      <th>tax</th>\n",
       "      <th>ptratio</th>\n",
       "      <th>b</th>\n",
       "      <th>lstat</th>\n",
       "      <th>medv</th>\n",
       "    </tr>\n",
       "  </thead>\n",
       "  <tbody>\n",
       "    <tr>\n",
       "      <th>0</th>\n",
       "      <td>0.00632</td>\n",
       "      <td>18.0</td>\n",
       "      <td>2.31</td>\n",
       "      <td>0</td>\n",
       "      <td>0.538</td>\n",
       "      <td>6.575</td>\n",
       "      <td>65.2</td>\n",
       "      <td>4.0900</td>\n",
       "      <td>1</td>\n",
       "      <td>296</td>\n",
       "      <td>15.3</td>\n",
       "      <td>396.90</td>\n",
       "      <td>4.98</td>\n",
       "      <td>24.0</td>\n",
       "    </tr>\n",
       "    <tr>\n",
       "      <th>1</th>\n",
       "      <td>0.02731</td>\n",
       "      <td>0.0</td>\n",
       "      <td>7.07</td>\n",
       "      <td>0</td>\n",
       "      <td>0.469</td>\n",
       "      <td>6.421</td>\n",
       "      <td>78.9</td>\n",
       "      <td>4.9671</td>\n",
       "      <td>2</td>\n",
       "      <td>242</td>\n",
       "      <td>17.8</td>\n",
       "      <td>396.90</td>\n",
       "      <td>9.14</td>\n",
       "      <td>21.6</td>\n",
       "    </tr>\n",
       "    <tr>\n",
       "      <th>2</th>\n",
       "      <td>0.02729</td>\n",
       "      <td>0.0</td>\n",
       "      <td>7.07</td>\n",
       "      <td>0</td>\n",
       "      <td>0.469</td>\n",
       "      <td>7.185</td>\n",
       "      <td>61.1</td>\n",
       "      <td>4.9671</td>\n",
       "      <td>2</td>\n",
       "      <td>242</td>\n",
       "      <td>17.8</td>\n",
       "      <td>392.83</td>\n",
       "      <td>4.03</td>\n",
       "      <td>34.7</td>\n",
       "    </tr>\n",
       "    <tr>\n",
       "      <th>3</th>\n",
       "      <td>0.03237</td>\n",
       "      <td>0.0</td>\n",
       "      <td>2.18</td>\n",
       "      <td>0</td>\n",
       "      <td>0.458</td>\n",
       "      <td>6.998</td>\n",
       "      <td>45.8</td>\n",
       "      <td>6.0622</td>\n",
       "      <td>3</td>\n",
       "      <td>222</td>\n",
       "      <td>18.7</td>\n",
       "      <td>394.63</td>\n",
       "      <td>2.94</td>\n",
       "      <td>33.4</td>\n",
       "    </tr>\n",
       "    <tr>\n",
       "      <th>4</th>\n",
       "      <td>0.06905</td>\n",
       "      <td>0.0</td>\n",
       "      <td>2.18</td>\n",
       "      <td>0</td>\n",
       "      <td>0.458</td>\n",
       "      <td>7.147</td>\n",
       "      <td>54.2</td>\n",
       "      <td>6.0622</td>\n",
       "      <td>3</td>\n",
       "      <td>222</td>\n",
       "      <td>18.7</td>\n",
       "      <td>396.90</td>\n",
       "      <td>5.33</td>\n",
       "      <td>36.2</td>\n",
       "    </tr>\n",
       "  </tbody>\n",
       "</table>\n",
       "</div>"
      ],
      "text/plain": [
       "      crim    zn  indus  chas    nox     rm   age     dis  rad  tax  ptratio  \\\n",
       "0  0.00632  18.0   2.31     0  0.538  6.575  65.2  4.0900    1  296     15.3   \n",
       "1  0.02731   0.0   7.07     0  0.469  6.421  78.9  4.9671    2  242     17.8   \n",
       "2  0.02729   0.0   7.07     0  0.469  7.185  61.1  4.9671    2  242     17.8   \n",
       "3  0.03237   0.0   2.18     0  0.458  6.998  45.8  6.0622    3  222     18.7   \n",
       "4  0.06905   0.0   2.18     0  0.458  7.147  54.2  6.0622    3  222     18.7   \n",
       "\n",
       "        b  lstat  medv  \n",
       "0  396.90   4.98  24.0  \n",
       "1  396.90   9.14  21.6  \n",
       "2  392.83   4.03  34.7  \n",
       "3  394.63   2.94  33.4  \n",
       "4  396.90   5.33  36.2  "
      ]
     },
     "execution_count": 3,
     "metadata": {},
     "output_type": "execute_result"
    }
   ],
   "source": [
    "from torchvision.datasets.utils import download_url\n",
    "import pandas as pd\n",
    "\n",
    "download_url(\"https://raw.githubusercontent.com/selva86/datasets/master/BostonHousing.csv\", '.')\n",
    "df = pd.read_csv(\"BostonHousing.csv\")\n",
    "df.head()"
   ]
  },
  {
   "cell_type": "code",
   "execution_count": 4,
   "id": "hired-monitor",
   "metadata": {},
   "outputs": [],
   "source": [
    "data = df.drop('medv', axis=1).values\n",
    "targets = df['medv'].values"
   ]
  },
  {
   "cell_type": "markdown",
   "id": "secondary-therapist",
   "metadata": {},
   "source": [
    "We then split the dataset into training and test set."
   ]
  },
  {
   "cell_type": "code",
   "execution_count": 5,
   "id": "attached-pleasure",
   "metadata": {},
   "outputs": [],
   "source": [
    "import numpy as np\n",
    "\n",
    "training_index = np.random.choice(range(len(targets)), size=404, replace=False)\n",
    "train_data = data[training_index]\n",
    "train_targets = targets[training_index]\n",
    "test_data = np.delete(data, training_index, axis=0)\n",
    "test_targets = np.delete(targets, training_index)"
   ]
  },
  {
   "cell_type": "markdown",
   "id": "proprietary-explanation",
   "metadata": {},
   "source": [
    "\n",
    "As you can see, we have 404 training samples and 102 test samples. The data comprises 13 features. The 13 features in the input data are as follow:\n",
    "\n",
    "1. Per capita crime rate.\n",
    "1. Proportion of residential land zoned for lots over 25,000 square feet.\n",
    "1. Proportion of non-retail business acres per town.\n",
    "1. Charles River dummy variable (= 1 if tract bounds river; 0 otherwise).\n",
    "1. Nitric oxides concentration (parts per 10 million).\n",
    "1. Average number of rooms per dwelling.\n",
    "1. Proportion of owner-occupied units built prior to 1940.\n",
    "1. Weighted distances to five Boston employment centres.\n",
    "1. Index of accessibility to radial highways.\n",
    "1. Full-value property-tax rate per $10,000.\n",
    "1. Pupil-teacher ratio by town.\n",
    "1. 1000 * (Bk - 0.63) ** 2 where Bk is the proportion of Black people by town.\n",
    "1. % lower status of the population.\n",
    "\n",
    "The targets are the median values of owner-occupied homes, in thousands of dollars:"
   ]
  },
  {
   "cell_type": "code",
   "execution_count": 6,
   "id": "greatest-opinion",
   "metadata": {},
   "outputs": [
    {
     "data": {
      "text/plain": [
       "array([22.8, 20.8, 37.3, 24.3, 15.1, 28.7, 16.8, 31.2, 21.8, 24. , 24.5,\n",
       "       22.2, 20. , 31.5, 46. , 14.5, 32.5, 19. , 22.1, 22.2, 20.5, 33.4,\n",
       "       22.8, 18.6, 19.9, 20.6, 25. , 32.2, 23. , 23.7, 10.2, 24.5, 28.2,\n",
       "       25. , 23.2, 23.4, 16.8, 14.9, 20.4, 19.3, 21. , 35.4, 15.6, 21.5,\n",
       "       45.4, 50. , 22.2, 14.4, 11. , 16. , 27.5, 16.3, 31.7, 18.7, 33.1,\n",
       "       13.1, 36.1, 19.1, 22.6, 19.3,  7.5,  8.8, 19.8, 17.8, 32.9, 26.2,\n",
       "       21.6, 13.6, 23.1, 22.7, 15.3, 19.8, 19.4, 21.4, 15.2, 21.2, 22. ,\n",
       "       13.4, 13.3, 18.3, 32.7, 27.5, 31.5, 14.2, 24.6, 17.8, 20. , 21.4,\n",
       "        8.4, 20.6, 14. , 27.9, 22.9, 22.5, 10.4, 20.8, 15.4, 43.8, 23.4,\n",
       "       10.9, 44.8, 13.8, 19.6, 12.8, 28.7, 15. , 13.5, 23.8, 20.1,  8.1,\n",
       "       29.8, 28.5, 27. , 27.5, 17.3, 22.6, 22.4, 16.2, 21.9, 24.1, 19.7,\n",
       "       22. , 16.4, 18.8, 20. , 21. , 18.1, 13.9, 17.6, 23.3, 18.6, 24.8,\n",
       "       20.1, 20.5, 24.8, 21.7, 48.3, 24.7, 21.9, 50. , 33.3, 23.9, 26.7,\n",
       "       17.4, 21.7, 50. , 24.5, 26.4, 17.8, 22.6, 13.3, 22. , 19.5, 26.5,\n",
       "       21.2, 10.5, 50. , 21.2, 17.4, 21.6, 20.3,  8.5,  8.8, 18.2, 12.1,\n",
       "       21.1, 25. , 36.2, 13.6, 21.1, 46.7, 16.1, 11.9, 18.8, 20.6, 34.7,\n",
       "       25.1, 34.9, 37. , 23.7, 24.7, 27.1, 20.1, 23.7, 37.6, 24.4, 24.3,\n",
       "       23.9, 33.2, 20.8, 21.7, 28. , 22.4, 19.4, 20.7, 41.3, 13.4, 23. ,\n",
       "       24.4, 20.7, 24. , 20.3, 29.9, 42.3, 15. , 32. , 13.8, 27.1, 19.4,\n",
       "       21.9, 23.7, 20.1, 19.6, 16.7, 23.9, 19.6, 14.6,  6.3, 17.8, 23.2,\n",
       "       20.4, 50. , 50. , 36. , 20.2, 22.5, 35.1, 31.1,  8.3, 31.6, 25.3,\n",
       "       23.1, 43.5, 18.2, 33.8, 21.4, 23.3, 23.3, 19.9, 50. , 19.2, 17.9,\n",
       "       24.8, 19.9, 19.1, 16.6, 13.5, 24.1, 25.2, 34.6, 12. , 21.2, 13.1,\n",
       "       20.9, 22.2, 19.1, 50. , 18.5, 12.7, 20.4, 43.1, 50. , 30.1, 19.5,\n",
       "        8.3, 33.4, 25. , 24.2, 15.2, 30.8,  8.5, 23.9, 13.2, 11.3, 14.4,\n",
       "       23. , 15.6, 19.3, 24.7,  7.2,  9.7, 27.9, 39.8, 14.6, 22. , 17.2,\n",
       "       37.2, 10.2, 30.1, 29.1, 13.1, 21.8, 17.1, 12.7, 35.2, 33. , 10.8,\n",
       "       21.4, 31. , 22. , 30.3, 22.3, 23.8, 17.1, 22.3, 19.6, 19.3, 26.6,\n",
       "       23.8, 10.2, 26.4, 20.1, 23.6, 31.6, 11.8, 16.1,  5. , 36.4, 22.2,\n",
       "       50. , 25. , 22.9,  7.2, 20.6, 14.5, 14.8, 32.4, 29.1, 22.7, 22.8,\n",
       "       19.1, 17. ,  7.4, 11.7, 24.1, 16.1, 33.2, 12.5, 18.9, 19.5, 50. ,\n",
       "       26.6,  7. , 20.5, 33.1,  5.6, 22. , 13.8, 20.9, 19.4, 15.4, 29.8,\n",
       "       21.7, 13.3, 21.4, 20.2, 23.1, 29.6, 20.3, 10.4, 36.5, 17.4, 35.4,\n",
       "       21.5, 34.9, 22. , 14.1, 21.7, 22.9, 14.3, 11.7, 23.1, 19.3, 16.5,\n",
       "       50. , 29.4, 12.6, 16.6, 50. , 10.5, 29. , 14.5, 10.9,  5. , 41.7,\n",
       "       28.7, 21. , 22.8, 20.3, 21.7, 25. , 28.4,  8.7, 18.3, 20.4, 16.2,\n",
       "       13.9, 14.9, 18.4, 14.9, 17.2, 18.9, 34.9, 25. ])"
      ]
     },
     "execution_count": 6,
     "metadata": {},
     "output_type": "execute_result"
    }
   ],
   "source": [
    "train_targets"
   ]
  },
  {
   "cell_type": "markdown",
   "id": "scenic-talent",
   "metadata": {},
   "source": [
    "The prices are typically between \\$ 10,000 and \\$ 50,000. If that sounds cheap, remember this was the mid-1970s, and these prices are not inflation-adjusted.\n",
    "\n",
    "## Preparing the data\n",
    "\n",
    "It would be problematic to feed into a neural network values that all take wildly different ranges. The network might be able to automatically adapt to such heterogeneous data, but it would definitely make learning more difficult. A widespread best practice to deal with such data is to do feature-wise normalization: for each feature in the input data (a column in the input data matrix), we will subtract the mean of the feature and divide by the standard deviation, so that the feature will be centered around 0 and will have a unit standard deviation. We can directly use the numbers calculated above.\n",
    "\n",
    "We can extract the mean and standard deviation of our dataset using `numpy`."
   ]
  },
  {
   "cell_type": "code",
   "execution_count": 7,
   "id": "removable-newsletter",
   "metadata": {},
   "outputs": [],
   "source": [
    "mean = train_data.mean(axis=0)\n",
    "std = train_data.std(axis=0)\n",
    "train_data -= mean\n",
    "train_data /= std\n",
    "test_data -= mean\n",
    "test_data /= std"
   ]
  },
  {
   "cell_type": "markdown",
   "id": "capable-experiment",
   "metadata": {},
   "source": [
    "### Data Type Transformation\n",
    "We can define the dataset using standard pytorch `DataLoader`."
   ]
  },
  {
   "cell_type": "code",
   "execution_count": 8,
   "id": "desirable-consensus",
   "metadata": {},
   "outputs": [],
   "source": [
    "import torch\n",
    "import numpy as np\n",
    "from torch.utils.data import TensorDataset, DataLoader\n",
    "\n",
    "def data_loader_creator(data, targets, batch_size, shuffle=True):\n",
    "    \"\"\"\n",
    "    Transforms data and targets from np.array to torch.utils.data.DataLoader,\n",
    "    and shuffle the dataset if `shuffle` is set to true.\n",
    "    \"\"\"\n",
    "    \n",
    "    data_tensor = torch.Tensor([np.array(x) for x in data])\n",
    "    targets_tensor = torch.Tensor([np.array([x]) for x in targets])\n",
    "    dataset = TensorDataset(data_tensor, targets_tensor)\n",
    "    return DataLoader(dataset, batch_size=batch_size, shuffle=shuffle)"
   ]
  },
  {
   "cell_type": "markdown",
   "id": "unable-strike",
   "metadata": {},
   "source": [
    "### Validating our approach using K-fold validation\n",
    "To evaluate our network while we keep adjusting its parameters (such as the number of epochs used for training), we could simply split the data into a training set and a validation set, as we were doing in our previous examples. However, because we have so few data points, the validation set would end up being very small (e.g. about 100 examples). A consequence is that our validation scores may change a lot depending on which data points we choose to use for validation and which we choose for training, i.e. the validation scores may have a high variance with regard to the validation split. This would prevent us from reliably evaluating our model.\n",
    "\n",
    "The best practice in such situations is to use K-fold cross-validation. It consists of splitting the available data into K partitions (typically K=4 or 5), then instantiating K identical models, and training each one on K-1 partitions while evaluating on the remaining partition. The validation score for the model used would then be the average of the K validation scores obtained."
   ]
  },
  {
   "cell_type": "markdown",
   "id": "intensive-mailman",
   "metadata": {},
   "source": [
    "The validation data creator can be created in the similar fashion. We also use the `config[\"K-fold\"]` here. If it is set to `True`, we use the 1/4 of the training set (that is not in the training data) as validation data. Otherwise we use the test set as the validation data."
   ]
  },
  {
   "cell_type": "markdown",
   "id": "silent-banks",
   "metadata": {},
   "source": [
    "\n",
    "Note that the quantities that we use for normalizing the test data have been computed using the training data. We should never use in our workflow any quantity computed on the test data, even for something as simple as data normalization.\n",
    "\n",
    "## Building our network\n",
    "Because so few samples are available, we will be using a very small network with two hidden layers, each with 64 units. In general, the less training data you have, the worse overfitting will be, and using a small network is one way to mitigate overfitting."
   ]
  },
  {
   "cell_type": "code",
   "execution_count": 9,
   "id": "further-timing",
   "metadata": {},
   "outputs": [],
   "source": [
    "import torch\n",
    "import torch.nn as nn\n",
    "import torch.nn.functional as F\n",
    "\n",
    "class RegressionNet(nn.Module):\n",
    "    def __init__(self):\n",
    "        super(RegressionNet, self).__init__()\n",
    "        self.hidden_1 = nn.Linear(13, 64)\n",
    "        self.hidden_2 = nn.Linear(64, 64)\n",
    "        self.predict = nn.Linear(64, 1)\n",
    "        \n",
    "    def forward(self, x):\n",
    "        x = F.relu(self.hidden_1(x))\n",
    "        x = F.relu(self.hidden_2(x))\n",
    "        x = self.predict(x)\n",
    "        return x\n",
    "\n",
    "model = RegressionNet()\n",
    "model.train()\n",
    "criterion = nn.MSELoss()\n",
    "optimizer = torch.optim.RMSprop(model.parameters(), lr=0.01)"
   ]
  },
  {
   "cell_type": "code",
   "execution_count": 10,
   "id": "european-batman",
   "metadata": {},
   "outputs": [
    {
     "name": "stdout",
     "output_type": "stream",
     "text": [
      "RegressionNet(\n",
      "  (hidden_1): Linear(in_features=13, out_features=64, bias=True)\n",
      "  (hidden_2): Linear(in_features=64, out_features=64, bias=True)\n",
      "  (predict): Linear(in_features=64, out_features=1, bias=True)\n",
      ")\n"
     ]
    }
   ],
   "source": [
    "print(model)"
   ]
  },
  {
   "cell_type": "markdown",
   "id": "tired-conditioning",
   "metadata": {},
   "source": [
    "Our network ends with a single unit, and no activation (i.e. it will be linear layer). This is a typical setup for scalar regression (i.e. regression where we are trying to predict a single continuous value). Applying an activation function would constrain the range that the output can take; for instance if we applied a sigmoid activation function to our last layer, the network could only learn to predict values between 0 and 1. Here, because the last layer is purely linear, the network is free to learn to predict values in any range.\n",
    "\n",
    "Note that we are compiling the network with the `mse` loss function -- Mean Squared Error, the square of the difference between the predictions and the targets, a widely used loss function for regression problems.\n",
    "\n",
    "We are also monitoring a new metric during training: `mae`. This stands for Mean Absolute Error. It is simply the absolute value of the difference between the predictions and the targets. For instance, a MAE of 0.5 on this problem would mean that our predictions are off by \\$500 on average."
   ]
  },
  {
   "cell_type": "markdown",
   "id": "incorporated-season",
   "metadata": {},
   "source": [
    "## Fit with Orca Estimator\n",
    "We can create the estimator with the following, and we can fit our data using the estimator. Let's try training the network for a bit longer: 500 epochs. To keep a record of how well the model did at each epoch, we will modify our training loop to save the per-epoch validation score log:"
   ]
  },
  {
   "cell_type": "code",
   "execution_count": null,
   "id": "pressing-shuttle",
   "metadata": {
    "scrolled": true
   },
   "outputs": [],
   "source": [
    "from zoo.orca.learn.pytorch import Estimator \n",
    "from zoo.orca.learn.metrics import MAE\n",
    "from zoo.orca.learn.trigger import EveryEpoch\n",
    "\n",
    "k = 4\n",
    "num_val_samples = len(train_data) // k\n",
    "num_epochs = 500\n",
    "all_scores = []\n",
    "for i in range(k):\n",
    "    print('processing fold #', i)\n",
    "    # Prepare the validation data: data from partition # k\n",
    "    val_data = train_data[i * num_val_samples: (i + 1) * num_val_samples]\n",
    "    val_targets = train_targets[i * num_val_samples: (i + 1) * num_val_samples]\n",
    "\n",
    "    # Prepare the training data: data from all other partitions\n",
    "    partial_train_data = np.concatenate(\n",
    "        [train_data[:i * num_val_samples],\n",
    "         train_data[(i + 1) * num_val_samples:]],\n",
    "        axis=0)\n",
    "    partial_train_targets = np.concatenate(\n",
    "        [train_targets[:i * num_val_samples],\n",
    "         train_targets[(i + 1) * num_val_samples:]],\n",
    "        axis=0)\n",
    "    \n",
    "    # Build data loader with training and validation data\n",
    "    train_loader = data_loader_creator(partial_train_data, partial_train_targets, batch_size=16, shuffle=True)\n",
    "    val_loader = data_loader_creator(val_data, val_targets, batch_size=1, shuffle=False)\n",
    "\n",
    "    # Build the Keras model (already compiled)\n",
    "    model = RegressionNet()\n",
    "    model.train()\n",
    "    est = Estimator.from_torch(model=model, optimizer=optimizer, loss=criterion, metrics=[MAE()])\n",
    "    \n",
    "    # Train the model (in silent mode, verbose=0)\n",
    "    est.set_tensorboard(\"./log/\", \"Fold_\" + str(i))\n",
    "    est.fit(data=train_loader, epochs=num_epochs, checkpoint_trigger=EveryEpoch(), validation_data=val_loader)\n",
    "    all_scores.append([x[1] for x in est.get_validation_summary(\"MAE\")])"
   ]
  },
  {
   "cell_type": "markdown",
   "id": "exceptional-palmer",
   "metadata": {},
   "source": [
    "We can then compute the average of the per-epoch MAE scores for all folds:"
   ]
  },
  {
   "cell_type": "code",
   "execution_count": 12,
   "id": "swiss-chaos",
   "metadata": {},
   "outputs": [],
   "source": [
    "average_mae_history = [\n",
    "    np.mean([x[i] for x in all_scores]) for i in range(num_epochs)]"
   ]
  },
  {
   "cell_type": "markdown",
   "id": "amazing-black",
   "metadata": {},
   "source": [
    "\n",
    "Let's plot this:"
   ]
  },
  {
   "cell_type": "code",
   "execution_count": 13,
   "id": "advisory-hayes",
   "metadata": {},
   "outputs": [
    {
     "data": {
      "image/png": "[encoded data removed]",
      "text/plain": [
       "<Figure size 432x288 with 1 Axes>"
      ]
     },
     "metadata": {
      "needs_background": "light"
     },
     "output_type": "display_data"
    }
   ],
   "source": [
    "import matplotlib.pyplot as plt\n",
    "\n",
    "plt.plot(range(1, len(average_mae_history) + 1), average_mae_history)\n",
    "plt.xlabel('Epochs')\n",
    "plt.ylabel('Validation MAE')\n",
    "plt.show()"
   ]
  },
  {
   "cell_type": "markdown",
   "id": "artificial-persian",
   "metadata": {},
   "source": [
    "\n",
    "It may be a bit hard to see the plot due to scaling issues and relatively high variance. Let's:\n",
    "\n",
    "* Omit the first 10 data points, which are on a different scale from the rest of the curve.\n",
    "* Replace each point with an exponential moving average of the previous points, to obtain a smooth curve."
   ]
  },
  {
   "cell_type": "code",
   "execution_count": 14,
   "id": "premium-hunger",
   "metadata": {},
   "outputs": [
    {
     "data": {
      "image/png": "[encoded data removed]",
      "text/plain": [
       "<Figure size 432x288 with 1 Axes>"
      ]
     },
     "metadata": {
      "needs_background": "light"
     },
     "output_type": "display_data"
    }
   ],
   "source": [
    "def smooth_curve(points, factor=0.9):\n",
    "    smoothed_points = []\n",
    "    for point in points:\n",
    "        if smoothed_points:\n",
    "            previous = smoothed_points[-1]\n",
    "            smoothed_points.append(previous * factor + point * (1 - factor))\n",
    "        else:\n",
    "            smoothed_points.append(point)\n",
    "    return smoothed_points\n",
    "\n",
    "smooth_mae_history = smooth_curve(average_mae_history[10:])\n",
    "\n",
    "plt.plot(range(1, len(smooth_mae_history) + 1), smooth_mae_history)\n",
    "plt.xlabel('Epochs')\n",
    "plt.ylabel('Validation MAE')\n",
    "plt.show()"
   ]
  },
  {
   "cell_type": "markdown",
   "id": "italic-bottom",
   "metadata": {},
   "source": [
    "According to this plot, it seems that validation MAE stops improving significantly after 80 epochs. Past that point, we start overfitting.\n",
    "\n",
    "Once we are done tuning other parameters of our model (besides the number of epochs, we could also adjust the size of the hidden layers), we can train a final \"production\" model on all of the training data, with the best parameters, then look at its performance on the test data:"
   ]
  },
  {
   "cell_type": "code",
   "execution_count": null,
   "id": "figured-comment",
   "metadata": {
    "scrolled": true
   },
   "outputs": [],
   "source": [
    "# Create data loaders for training and test set\n",
    "train_loader = data_loader_creator(train_data, train_targets, batch_size=16)\n",
    "test_loader = data_loader_creator(test_data, test_targets, batch_size=1, shuffle=False)\n",
    "# Use pytorch estimator to fit the data\n",
    "est = Estimator.from_torch(model=model, optimizer=optimizer, loss=criterion, metrics=[MAE()])\n",
    "est.fit(data=train_loader, epochs=80, checkpoint_trigger=EveryEpoch())"
   ]
  },
  {
   "cell_type": "code",
   "execution_count": 16,
   "id": "aquatic-fight",
   "metadata": {},
   "outputs": [
    {
     "name": "stdout",
     "output_type": "stream",
     "text": [
      "Warn: jep.JepException: <class 'StopIteration'>\n",
      "\tat jep.Jep.exec(Native Method)\n",
      "\tat jep.Jep.exec(Jep.java:478)\n",
      "\tat com.intel.analytics.zoo.common.PythonInterpreter$$anonfun$1.apply$mcV$sp(PythonInterpreter.scala:108)\n",
      "\tat com.intel.analytics.zoo.common.PythonInterpreter$$anonfun$1.apply(PythonInterpreter.scala:107)\n",
      "\tat com.intel.analytics.zoo.common.PythonInterpreter$$anonfun$1.apply(PythonInterpreter.scala:107)\n",
      "\tat scala.concurrent.impl.Future$PromiseCompletingRunnable.liftedTree1$1(Future.scala:24)\n",
      "\tat scala.concurrent.impl.Future$PromiseCompletingRunnable.run(Future.scala:24)\n",
      "\tat java.util.concurrent.Executors$RunnableAdapter.call(Executors.java:511)\n",
      "\tat java.util.concurrent.FutureTask.run(FutureTask.java:266)\n",
      "\tat java.util.concurrent.ThreadPoolExecutor.runWorker(ThreadPoolExecutor.java:1149)\n",
      "\tat java.util.concurrent.ThreadPoolExecutor$Worker.run(ThreadPoolExecutor.java:624)\n",
      "\tat java.lang.Thread.run(Thread.java:748)\n",
      "\n",
      "2021-02-24 17:31:17 INFO  DistriOptimizer$:1759 - MAE is (Loss: 245.00598, count: 102, Average Loss: 2.4020195)\n"
     ]
    },
    {
     "data": {
      "text/plain": [
       "{'MAE': 2.402019500732422}"
      ]
     },
     "execution_count": 16,
     "metadata": {},
     "output_type": "execute_result"
    }
   ],
   "source": [
    "est.evaluate(test_loader)"
   ]
  },
  {
   "cell_type": "markdown",
   "id": "temporal-decline",
   "metadata": {},
   "source": [
    "We are still off by \\$ 2,402.\n",
    "\n",
    "## Wrapping up\n",
    "Here's what you should take away from this example:\n",
    "\n",
    "* Regression is done using different loss functions from classification; Mean Squared Error (MSE) is a commonly used loss function for regression.\n",
    "* Similarly, evaluation metrics to be used for regression differ from those used for classification; naturally the concept of \"accuracy\" does not apply for regression. A common regression metric is Mean Absolute Error (MAE).\n",
    "* When features in the input data have values in different ranges, each feature should be scaled independently as a preprocessing step.\n",
    "* When there is little data available, using K-Fold validation is a great way to reliably evaluate a model.\n",
    "* When little training data is available, it is preferable to use a small network with very few hidden layers (typically only one or two), in order to avoid severe overfitting.\n",
    "\n",
    "This example concludes our series of three introductory practical examples. You are now able to handle common types of problems with vector data input:\n",
    "\n",
    "* Binary (2-class) classification.\n",
    "* Multi-class, single-label classification.\n",
    "* Scalar regression.\n",
    "\n",
    "In the next chapter, you will acquire a more formal understanding of some of the concepts you have encountered in these first examples, such as data preprocessing, model evaluation, and overfitting."
   ]
  },
  {
   "cell_type": "code",
   "execution_count": 17,
   "id": "editorial-triple",
   "metadata": {},
   "outputs": [
    {
     "name": "stdout",
     "output_type": "stream",
     "text": [
      "Stopping orca context\n"
     ]
    }
   ],
   "source": [
    "# stop orca context when program finishes\n",
    "stop_orca_context()"
   ]
  }
 ],
 "metadata": {
  "kernelspec": {
   "display_name": "Python 3",
   "language": "python",
   "name": "python3"
  },
  "language_info": {
   "codemirror_mode": {
    "name": "ipython",
    "version": 3
   },
   "file_extension": ".py",
   "mimetype": "text/x-python",
   "name": "python",
   "nbconvert_exporter": "python",
   "pygments_lexer": "ipython3",
   "version": "3.7.7"
  }
 },
 "nbformat": 4,
 "nbformat_minor": 5
}
